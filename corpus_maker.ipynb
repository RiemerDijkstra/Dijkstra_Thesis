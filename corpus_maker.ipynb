{
 "cells": [
  {
   "cell_type": "markdown",
   "id": "ad62dd4a",
   "metadata": {},
   "source": [
    "## Using gensim's Wikicorpus\n",
    "\n",
    "I initially used gensim's Wikicorpus to extract a txt file from a Wikipedia drump. Some problems occurred: Wikicorpus removes stop words, punctuation and also some non-alphabetical words (dates etc.). Therefore, it did not seem like the optimal method of preprocessing. The code is stated below. "
   ]
  },
  {
   "cell_type": "code",
   "execution_count": null,
   "id": "468e6ca3",
   "metadata": {},
   "outputs": [],
   "source": [
    "\"\"\"\n",
    "Inspired by:\n",
    "https://github.com/panyang/Wikipedia_Word2vec/blob/master/v1/process_wiki.py\n",
    "\"\"\"\n",
    "\n",
    "import sys\n",
    "from gensim.corpora import WikiCorpus\n",
    "\n",
    "# Convert Wiki dump file to text corpus\n",
    "def make_corpus(in_f, out_f):\n",
    "\n",
    "    output = open(out_f, 'w')\n",
    "    wiki = WikiCorpus(in_f)\n",
    "\n",
    "    for text in wiki.get_texts():\n",
    "        output.write(bytes(' '.join(text), 'utf-8').decode('utf-8') + '\\n')\n",
    "    output.close()\n",
    "\n",
    "# System input\n",
    "if __name__ == '__main__':\n",
    "\n",
    "    if len(sys.argv) != 3:\n",
    "        print('Usage: python3 make_wiki_corpus.py <wikipedia_dump_file> <processed_text_file>')\n",
    "        sys.exit(1)\n",
    "    in_f = sys.argv[1]\n",
    "    out_f = sys.argv[2]\n",
    "    make_corpus(in_f, out_f)"
   ]
  },
  {
   "cell_type": "code",
   "execution_count": 1,
   "id": "ac53ec1f",
   "metadata": {},
   "outputs": [],
   "source": [
    "# Running the following command will convert a dump file to txt:\n",
    "\n",
    "!python3 make_wiki_corpus.py <wikipedia_dump_file> <processed_text_file>'"
   ]
  },
  {
   "cell_type": "code",
   "execution_count": 10,
   "id": "1a990bf1",
   "metadata": {},
   "outputs": [
    {
     "name": "stdout",
     "output_type": "stream",
     "text": [
      "sayf al din ghazi ii ibn mawdud full name sayf al din ghazi ii ibn mawdud ibn zengi died was zangid emir of mosul the nephew of nur ad din zengi he became emir of mosul in after the death of his father qutb ad din mawdud saif had been chosen as the successor under the advice of eunuch abd al masish who wanted to keep the effective rule in lieu of the young emir the disinherited son of mawdud imad ad din zengi ii fled to aleppo at the court of nur ad din the latter who was waiting for an excuse to annex mosul conquered sinjar in september and besieged mosul which surrendered on january after ousting al masish he put gümüshtekin one of his officers as governor leaving saif ud din nothing but the nominal title of emir the latter also married the daughter of nur ad din at nur ad din death may gümüshtekin went to damascus to take control of his son and entitled himself of atabeg of aleppo saif ud din rejected his tutorage and restored his independence the nobles of damascus worried by gümüshtekin increasing power offered saif ud din their city but he could not intervene since he was busy in retaking mosul thenceforth damascus was given to saladin saladin took control of biladu sham syria but saif ud din wanted to take over aleppo so he sent his brother izz ad din mas ud at the head of an army to fight saladin they met in an area near hama called kron hama arabic قرون حماه where saif ud din was defeated later he prepared for another battle at tell al sultan arabic تل سلطان near aleppo where he was also defeated he went back to mosul and sent messengers to saladin offering his alliance which was accepted saif ud din died from tuberculosis and his brother izz ad din mas ud succeeded him in references sources\n",
      "\n",
      "lower bhavani project canal is long irrigation canal which runs in erode district in tamil nadu india the canal is valley side contour canal fed by bhavanisagar dam and irrigates lakh hectares of land the main canal feeds thadapalli and arakkankottai channels which irrigate the cultivable lands the canal was the brainchild eswaran member of the legislative assembly of the erode constituency in the early references see also kalingarayan canal\n",
      "\n",
      "narayanhat union is union of bhujpur thana of chittagong district geography area of narayanhat acres km location north dantmara union east manikchhari upazila south bhujpur union west sitakunda mountain range population at the bangladesh census narayanhat union had population of education narayanhat degree college narayanhat collegiate high school narayanhat senior madrasha narayanhat chanpur high school narayanhat govt primary school jujkhola govt primary school mirzarhat high school mirzarhat govt primary school mohanagor reg primary school marketplaces and bazaars narayanhat and mirzarhat is the main marketplace in the union villages and mouzas chanpur dhamarkhil shouilkopa jujkhola jujkhola hapania sundarpur references\n",
      "\n"
     ]
    }
   ],
   "source": [
    "# The following output is produced (see full file: wiki_en.txt)\n",
    "\n",
    "i = 0\n",
    "\n",
    "with open(\"wiki_en.txt\") as f:\n",
    "    for article in f:\n",
    "        i += 1\n",
    "        print(article)\n",
    "        if i == 3:\n",
    "            break\n",
    "            \n",
    "f.close()"
   ]
  },
  {
   "cell_type": "markdown",
   "id": "cbcf070d",
   "metadata": {},
   "source": [
    "## WikiExtractor"
   ]
  },
  {
   "cell_type": "markdown",
   "id": "f6e9a680",
   "metadata": {},
   "source": [
    "I have tried a different approach by using WikiExtractor. This is what I did:\n",
    "\n",
    "1. Terminal: python3 -m wikiextractor.WikiExtractor enwiki-latest-pages-articles16.xml-p20460153p20570392.bz2 \n",
    "\n",
    "2. Convert the preprocessed data into 1 txt file: cat text/*/* > jawiki.txt\n",
    "\n",
    "The result can be seen in wiki.txt. I got rid of the doc id's (<doc id= ...............>) and wrote the output in a new file: new_wiki.txt"
   ]
  },
  {
   "cell_type": "code",
   "execution_count": 12,
   "id": "bffd94b6",
   "metadata": {},
   "outputs": [
    {
     "name": "stdout",
     "output_type": "stream",
     "text": [
      "Sayf al-Din Ghazi II\n",
      "\n",
      "\n",
      "\n",
      "Sayf al-Din Ghazi (II) ibn Mawdud (; full name: Sayf al-Din Ghazi II ibn Mawdud ibn Zengi; died 1180) was a Zangid Emir of Mosul, the nephew of Nur ad-Din Zengi. \n",
      "\n",
      "He became Emir of Mosul in 1170 after the death of his father Qutb ad-Din Mawdud. Saif had been chosen as the successor under the advice of eunuch ’Abd al-Masish, who wanted to keep the effective rule in lieu of the young emir; the disinherited son of Mawdud, Imad ad-Din Zengi II, fled to Aleppo at the court of Nur ad-Din. The latter, who was waiting for an excuse to annex Mosul, conquered Sinjar in September 1170 and besieged Mosul, which surrendered on 22 January 1171. After ousting al-Masish, he put Gümüshtekin, one of his officers, as governor, leaving Saif ud-Din nothing but the nominal title of emir. The latter also married the daughter of Nur ad-Din. \n",
      "\n",
      "At Nur ad-Din's death (May 1174), Gümüshtekin went to Damascus to take control of his son and entitled himself of atabeg of Aleppo. Saif ud-Din rejected his tutorage and restored his independence. The nobles of Damascus, worried by Gümüshtekin's increasing power, offered Saif ud-Din their city, but he could not intervene since he was busy in retaking Mosul. Thenceforth Damascus was given to Saladin.\n",
      "\n"
     ]
    }
   ],
   "source": [
    "# The following output is produced (see full file: new_wiki.txt)\n",
    "\n",
    "i = 0\n",
    "\n",
    "with open(\"new_wiki.txt\") as f:\n",
    "    for line in f:\n",
    "        i += 1\n",
    "        print(line)\n",
    "        if i == 5:\n",
    "            break\n",
    "            \n",
    "f.close()"
   ]
  },
  {
   "cell_type": "code",
   "execution_count": 8,
   "id": "7e7add9d",
   "metadata": {},
   "outputs": [],
   "source": [
    "# import spacy\n",
    "\n",
    "# nlp = spacy.load('en')\n",
    "\n",
    "# tokens = nlp(\"wiki.txt\")\n",
    "\n",
    "# i = 0\n",
    "# prompt = ''\n",
    "# for sent in tokens.sents:\n",
    "#     i += 1\n",
    "#     prompt = prompt + ' ' + sent.string.strip()\n",
    "#     if i > 3:\n",
    "#         break\n",
    "        \n",
    "# print(prompt)"
   ]
  }
 ],
 "metadata": {
  "kernelspec": {
   "display_name": "Python 3",
   "language": "python",
   "name": "python3"
  },
  "language_info": {
   "codemirror_mode": {
    "name": "ipython",
    "version": 3
   },
   "file_extension": ".py",
   "mimetype": "text/x-python",
   "name": "python",
   "nbconvert_exporter": "python",
   "pygments_lexer": "ipython3",
   "version": "3.7.5"
  }
 },
 "nbformat": 4,
 "nbformat_minor": 5
}
