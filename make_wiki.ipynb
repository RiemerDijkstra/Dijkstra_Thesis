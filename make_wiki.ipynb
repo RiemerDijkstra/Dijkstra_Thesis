{
 "cells": [
  {
   "cell_type": "code",
   "execution_count": null,
   "metadata": {},
   "outputs": [],
   "source": [
    "import wikipedia\n",
    "import random"
   ]
  },
  {
   "cell_type": "code",
   "execution_count": null,
   "metadata": {},
   "outputs": [],
   "source": [
    "# get a list of random Wiki articles\n",
    "topics = []\n",
    "for i in range(1): # adjust range to obtain more Wiki articles\n",
    "    topics.append(wikipedia.random(pages=10))\n",
    "\n",
    "f = open(\"new_training.txt\", \"a\")\n",
    "\n",
    "# write content to wiki_corpus.txt\n",
    "for sub_list in topics:\n",
    "    for item in sub_list:\n",
    "        f.write(\"\\n\")\n",
    "        try:\n",
    "            f.write(wikipedia.WikipediaPage(item).content)\n",
    "        except wikipedia.DisambiguationError as e:\n",
    "            s = random.choice(e.options)\n",
    "            f.write(wikipedia.page(s).content)\n",
    "        f.write(\"\\n\")\n",
    "        f.write('<|endoftext|>')\n",
    "\n",
    "f.close()"
   ]
  },
  {
   "cell_type": "code",
   "execution_count": null,
   "metadata": {},
   "outputs": [],
   "source": []
  }
 ],
 "metadata": {
  "kernelspec": {
   "display_name": "Python 3",
   "language": "python",
   "name": "python3"
  },
  "language_info": {
   "codemirror_mode": {
    "name": "ipython",
    "version": 3
   },
   "file_extension": ".py",
   "mimetype": "text/x-python",
   "name": "python",
   "nbconvert_exporter": "python",
   "pygments_lexer": "ipython3",
   "version": "3.6.9"
  }
 },
 "nbformat": 4,
 "nbformat_minor": 2
}
